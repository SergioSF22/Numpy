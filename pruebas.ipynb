{
 "cells": [
  {
   "cell_type": "markdown",
   "metadata": {},
   "source": [
    "# Slicing: \n",
    "Obtener un array a partir de otro ya existente eligiendo el contenido deseado mediante una sintaxis de indexación."
   ]
  },
  {
   "cell_type": "code",
   "execution_count": null,
   "metadata": {},
   "outputs": [],
   "source": [
    "import numpy as np\n",
    "\n",
    "# Creo arrays unidimensionales mediante la función arange() la cual genera una secuencia de numeros mediante la sintaxis arange(INICIO, FINAL, PASO)\n",
    "print(\"Array con paso decimal: \", np.arange(0, 1, 0.1))\n",
    "print(\"Array con paso inverso: \", np.arange(10, 0, -1))\n",
    "print(\"Array con paso inverso: \", np.arange(50, 25, -3))\n",
    "\n",
    "# Slicing en arrays unidimensionales array[INICIO:FINAL-1:PASO]\n",
    "array = np.arange(10, 0, -1)\n",
    "print(\"Slice 1: \", array[7:10])\n",
    "print(\"Slice 2: \", array[2:10])\n",
    "print(\"Slice con paso: \", array[4:10:2])\n",
    "print(\"Slice con paso: \", array[1:10:3])\n",
    "print(\"Slice con paso: \", array[2:9:2])\n",
    "print(\"Slice con paso inverso: \", array[0:-1:5][::-1]) # Al poner [::-1] despues de la indexación principal inviertes el resultado de la misma\n",
    "print(\"Slice con paso inverso: \", array[8:4:-1])\n",
    "\n",
    "# Slicing en arrays bidimensionales [FILA, COLUMNA]\n",
    "array_2d = np.array([[1, 2, 3], \n",
    "                     [4, 5, 6], \n",
    "                     [7, 8, 9]])\n",
    "print(\"Slicing de las primeras dos filas y dos columnas:\\n\", array_2d[:2, :2])\n",
    "print(\"Slicing de las últimas dos filas y dos columnas:\\n\", array_2d[1:, 1:])\n",
    "\n",
    "# Slicing en arrays tridimensionales array[DIMENSION, FILA, COLUMNA]\n",
    "array_3d = np.array(\n",
    "    [\n",
    "        [[1, 2, 3], [4, 5, 6], [7, 8, 9]], # Dimension 0\n",
    "        [[10, 11, 12], [13, 14, 15], [16, 17, 18]], # Dimension 1\n",
    "        [[19, 20, 21], [22, 23, 24], [25, 26, 27]], # Dimension 2\n",
    "    ]\n",
    ")\n",
    "# NOTA -> El caracter ':' sirve para hacer referencia a todo el conjunto. Es decir si al elegir la dimensión pongo ':' estoy indicando\n",
    "# que seleccione todas las dimensiones\n",
    "print(\"Slicing de la primera ultima de la primera dimension: \", array_3d[1, 2, :])\n",
    "print(\"Slicing de la segunda columna de la segunda fila de la segunda dimension: \", array_3d[2,1,1])\n",
    "print(\"Slicing de la todas las primeras columnas de las segundas filas de todas las dimensiones: \", array_3d[:, 1, 0])"
   ]
  },
  {
   "cell_type": "code",
   "execution_count": null,
   "metadata": {},
   "outputs": [],
   "source": [
    "import numpy as np\n",
    "\n",
    "array_1d = np.array([1, 2, 3, 4])\n",
    "# Crear array de 2 dimensiones\n",
    "arr_2d = np.array(\n",
    "    [[10, 15, 20], \n",
    "     [25, 30, 35], \n",
    "     [40, 45, 50], \n",
    "     [55, 60, 65], \n",
    "     [70, 75, 80], \n",
    "     [85, 90, 95]]\n",
    ")\n",
    "\n",
    "# Indexacion\n",
    "print(arr_2d[0, 0])\n",
    "print(arr_2d[1, 2])\n",
    "print(arr_2d[-1, -1])\n",
    "print(arr_2d[:, 2])"
   ]
  },
  {
   "cell_type": "markdown",
   "metadata": {},
   "source": [
    "# OPERACIONES ARITMÉTICAS ARRAYS"
   ]
  },
  {
   "cell_type": "code",
   "execution_count": 2,
   "metadata": {},
   "outputs": [
    {
     "name": "stdout",
     "output_type": "stream",
     "text": [
      "Suma:\n",
      "  [[ 9 11 13]\n",
      " [ 8 11 11]]\n",
      "Resta:\n",
      "  [[-7 -7 -7]\n",
      " [ 2  1  3]]\n",
      "Multiplicacion:\n",
      "  [[ 8 18 30]\n",
      " [15 30 28]]\n",
      "Division:\n",
      "  [[0.125      0.22222222 0.3       ]\n",
      " [1.66666667 1.2        1.75      ]]\n",
      "Suma:\n",
      "  [[ 4  5  6]\n",
      " [ 8  9 10]]\n",
      "Resta:\n",
      "  [[-2 -1  0]\n",
      " [ 2  3  4]]\n",
      "Multiplicacion:\n",
      "  [[ 3  6  9]\n",
      " [15 18 21]]\n",
      "Division:\n",
      "  [[0.33333333 0.66666667 1.        ]\n",
      " [1.66666667 2.         2.33333333]]\n"
     ]
    }
   ],
   "source": [
    "import numpy as np\n",
    "\n",
    "array1 = np.array([[1, 2, 3], [5, 6, 7]])\n",
    "array2 = np.array([[8, 9, 10], [3, 5, 4]])\n",
    "\n",
    "# Operaciones entre arrays\n",
    "print(\"Suma:\\n \", array1 + array2)  # [9 11 13] [8 11 11]\n",
    "print(\"Resta:\\n \", array1 - array2) # [-7 -7 -7] [2 1 3]\n",
    "print(\"Multiplicacion:\\n \", array1 * array2) # [8 18 30] [15 30 28]\n",
    "print(\"Division:\\n \", array1 / array2) # [0.125 0.2 0.3] [1.6 1.2 1.75]\n",
    "\n",
    "# Operaciones de arrays con un escalar\n",
    "print(\"Suma:\\n \", array1 + 3) # [4 5 6] [8 9 10]\n",
    "print(\"Resta:\\n \", array1 - 3) # [-2 -1 0] [2 3 4]\n",
    "print(\"Multiplicacion:\\n \", array1 * 3) # [3 6 9] [15 18 21]\n",
    "print(\"Division:\\n \", array1 / 3) # [0.3 0.6 1] [1.66 2 2.33]"
   ]
  },
  {
   "cell_type": "code",
   "execution_count": null,
   "metadata": {},
   "outputs": [
    {
     "name": "stdout",
     "output_type": "stream",
     "text": [
      "Ventas diarias:\n",
      "  [491   7 461 119 129 717 982 670 340 317 568 385 894 488 843 162 335 684\n",
      "  93  88 622 723 724 720 736]\n",
      "Ventas acumuladas:\n",
      "  [  491   498   959  1078  1207  1924  2906  3576  3916  4233  4801  5186\n",
      "  6080  6568  7411  7573  7908  8592  8685  8773  9395 10118 10842 11562\n",
      " 12298]\n",
      "Ventas diarias:\n",
      " [709.31791575 226.85942441 615.32397585 416.50939096 728.68776026\n",
      " 989.1992352  685.96896955 288.96633967 951.01463394 763.63665697\n",
      " 700.16037862  58.60583383 278.63240192 797.37096806 853.47863212\n",
      " 532.08839412 894.40079378 149.04038547 404.53784517 310.98145522\n",
      "   7.19353099 650.31577767 710.44373142 582.7422158  168.79267627]\n",
      "Ventas acumuladas:\n",
      " [  709.31791575   936.17734016  1551.50131601  1968.01070697\n",
      "  2696.69846723  3685.89770242  4371.86667198  4660.83301165\n",
      "  5611.84764559  6375.48430256  7075.64468118  7134.25051501\n",
      "  7412.88291693  8210.25388499  9063.7325171   9595.82091122\n",
      " 10490.221705   10639.26209047 11043.79993564 11354.78139086\n",
      " 11361.97492185 12012.29069952 12722.73443094 13305.47664674\n",
      " 13474.26932301]\n"
     ]
    }
   ],
   "source": [
    "# Crea un vector (array unidimensional) de 25 elementos con valores aleatorios enteros. Obten la suma acumulativa de los elementos del vector.\n",
    "ventas1 = np.random.randint(0, 1000, size=(25))\n",
    "print(\"Ventas diarias:\\n \", ventas1)\n",
    "ventas1_acumuladas = np.cumsum(ventas1)\n",
    "print(\"Ventas acumuladas:\\n \", ventas1_acumuladas)\n",
    "\n",
    "# Crea un vector (array unidimensional) de 25 elementos con valores aleatorios flotantes. Obten la suma acumulativa de los elementos del vector.\n",
    "ventas2 = np.random.random(size=(25)) * 1000\n",
    "print(f\"Ventas diarias:\\n {ventas2}\")\n",
    "ventas2_acumuladas = np.cumsum(ventas2)\n",
    "print(f\"Ventas acumuladas:\\n {ventas2_acumuladas}\")"
   ]
  },
  {
   "cell_type": "markdown",
   "metadata": {},
   "source": [
    "# FUNCIONES TRIGONOMÉTRICAS"
   ]
  },
  {
   "cell_type": "code",
   "execution_count": 6,
   "metadata": {},
   "outputs": [
    {
     "name": "stdout",
     "output_type": "stream",
     "text": [
      "5.0\n",
      "5.0\n"
     ]
    }
   ],
   "source": [
    "# Funcion para calcular la 'distancia' entre dos arrays. \n",
    "def distancia_euclidiana(p1, p2):\n",
    "    return np.sqrt(np.sum((p1 - p2) ** 2))\n",
    "\n",
    "def distancia_euclidiana2(p1, p2):\n",
    "    return np.linalg.norm(p1 - p2)\n",
    "\n",
    "print(distancia_euclidiana(5,10))\n",
    "print(distancia_euclidiana2(5,10))"
   ]
  },
  {
   "cell_type": "code",
   "execution_count": 7,
   "metadata": {},
   "outputs": [
    {
     "name": "stdout",
     "output_type": "stream",
     "text": [
      "El disco mas parecido al nuevo es: [   6    3 2000] con una distancia de 300.04\n"
     ]
    }
   ],
   "source": [
    "# supongamos que tenemos un conjunto de datos de discos de música con el siguiente formato: [número de canciones, premios grammy, ventas en miles de euros]. Cada disco es un vector en un espacio tridimensional. Dado un nuevo disco de nuestra discográfica queremos evaluar qué disco existente es más similar en términos de distancia euclidiana.\n",
    "\n",
    "disco1 = np.array([12, 1, 1000])\n",
    "disco2 = np.array([6, 3, 2000])\n",
    "disco3 = np.array([24, 4, 4000])\n",
    "disco4 = np.array([10, 2, 3000])\n",
    "\n",
    "disco_nuevo = np.array([11, 2, 2300])\n",
    "\n",
    "discos = np.array([disco1, disco2, disco3, disco4])\n",
    "\n",
    "distancias = [distancia_euclidiana(disco_nuevo, disco) for disco in discos]\n",
    "\n",
    "indice_disco_mas_cercano = np.argmin(distancias)\n",
    "\n",
    "disco_mas_parecido = discos[indice_disco_mas_cercano]\n",
    "\n",
    "print(\n",
    "    f\"El disco mas parecido al nuevo es: {disco_mas_parecido} con una distancia de {distancias[indice_disco_mas_cercano]:.2f}\"\n",
    ")"
   ]
  },
  {
   "cell_type": "markdown",
   "metadata": {},
   "source": [
    "El **producto punto**, también conocido como producto escalar, es una operación matemática común que se utiliza en la programación de inteligencia artificial, especialmente en áreas como el procesamiento de señales, la visión por computadora y el aprendizaje automático. En el contexto de la IA, el producto punto se utiliza para calcular la similitud entre vectores, lo cual es fundamental en algoritmos de clasificación y clustering.\n",
    "\n",
    "El **producto cruzado** en programación de Inteligencia Artificial (IA) se utiliza principalmente en el contexto de operaciones matemáticas y cálculos geométricos en espacios tridimensionales. Este concepto es relevante en aplicaciones de IA que requieren manipulación de vectores en geometría 3D, como en gráficos por computadora, diseño de edificios, y bioinformática."
   ]
  },
  {
   "cell_type": "code",
   "execution_count": 63,
   "metadata": {},
   "outputs": [
    {
     "name": "stdout",
     "output_type": "stream",
     "text": [
      "Array 1:  [4 2 2]\n",
      "Array 2:  [4 3 2]\n",
      "Producto punto:  26\n",
      "Producto cruzado:  [-2  0  4]\n"
     ]
    }
   ],
   "source": [
    "import numpy as np\n",
    "\n",
    "array1 = np.random.randint(1, 5, size=(3))\n",
    "array2 = np.random.randint(1, 5, size=(3))\n",
    "\n",
    "print(\"Array 1: \", array1)\n",
    "print(\"Array 2: \", array2)\n",
    "print(\"Producto punto: \", np.dot(array1, array2))\n",
    "print(\"Producto cruzado: \", np.cross(array1, array2))"
   ]
  },
  {
   "cell_type": "code",
   "execution_count": 81,
   "metadata": {},
   "outputs": [
    {
     "name": "stdout",
     "output_type": "stream",
     "text": [
      "Array 1:  [ 5 10 15]\n",
      "Array 2:  [100 200 300]\n",
      "Distancia eucliciana entre los arrays (Método tradicional): 355.46\n",
      "Distancia eucliciana entre los arrays (Librería linalg): 355.46\n",
      "Distancia eucliciana del array 1 al punto de origen (Método tradicional): 18.71\n",
      "Distancia eucliciana del array 2 al punto de origen (Librería linalg): 374.17\n"
     ]
    }
   ],
   "source": [
    "# Formas de calcular la distancia euclidiana, tanto entre dos vectores como entre un vector y el punto de origen del plano (0, 0, 0).\n",
    "\n",
    "import numpy as np\n",
    "\n",
    "array1 = np.arange(5, 20, 5)\n",
    "array2 = np.arange(100, 400, 100)\n",
    "\n",
    "print(\"Array 1: \", array1)\n",
    "print(\"Array 2: \", array2)\n",
    "print(\n",
    "    f\"Distancia eucliciana entre los arrays (Método tradicional): {np.sqrt(np.sum((array1 - array2) ** 2)):.2f}\"\n",
    ")\n",
    "print(\n",
    "    f\"Distancia eucliciana entre los arrays (Librería linalg): {np.linalg.norm(array1 - array2):.2f}\"\n",
    ")\n",
    "print(\n",
    "    f\"Distancia eucliciana del array 1 al punto de origen (Método tradicional): {np.sqrt(np.sum(array1**2)):.2f}\"\n",
    ")\n",
    "print(\n",
    "    f\"Distancia eucliciana del array 2 al punto de origen (Librería linalg): {np.linalg.norm(array2):.2f}\"\n",
    ")"
   ]
  }
 ],
 "metadata": {
  "kernelspec": {
   "display_name": ".venv",
   "language": "python",
   "name": "python3"
  },
  "language_info": {
   "codemirror_mode": {
    "name": "ipython",
    "version": 3
   },
   "file_extension": ".py",
   "mimetype": "text/x-python",
   "name": "python",
   "nbconvert_exporter": "python",
   "pygments_lexer": "ipython3",
   "version": "3.10.0"
  }
 },
 "nbformat": 4,
 "nbformat_minor": 2
}
