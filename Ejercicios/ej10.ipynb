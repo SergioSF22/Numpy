{
 "cells": [
  {
   "cell_type": "markdown",
   "metadata": {},
   "source": [
    "- 10. Hablando de pilotos de carreras\n",
    "    \n",
    "    ### **Contexto:**\n",
    "    \n",
    "    Eres un ingeniero de datos en un equipo de Fórmula 1 y debes analizar el rendimiento de **10 pilotos** en **5 carreras**. Para ello, trabajarás con matrices en NumPy para transformar los datos y extraer información útil.\n",
    "    \n",
    "    ### **Tareas:**\n",
    "    \n",
    "    1. **Representar los datos** en un array bidimensional de NumPy donde cada fila sea un piloto y cada columna una carrera."
   ]
  },
  {
   "cell_type": "code",
   "execution_count": 84,
   "metadata": {},
   "outputs": [
    {
     "name": "stdout",
     "output_type": "stream",
     "text": [
      "Pilotos:\n",
      "  [[9 6 6 6 2]\n",
      " [8 3 1 9 4]\n",
      " [4 5 1 9 3]\n",
      " [5 7 7 2 9]\n",
      " [9 8 6 5 3]\n",
      " [4 9 3 6 8]\n",
      " [5 5 5 7 7]\n",
      " [3 4 7 4 8]\n",
      " [4 3 9 8 5]\n",
      " [8 1 8 9 9]]\n",
      "----------------------------\n"
     ]
    }
   ],
   "source": [
    "import numpy as np\n",
    "\n",
    "# Datos de entrada\n",
    "pilotos = np.random.randint(\n",
    "    1, 10, [10, 5]\n",
    ")  # Matriz 5x10 aleatoria donde las filas son los pilotos y las columnas las posiciones de cada carrera\n",
    "print(\"Pilotos:\\n \", pilotos)\n",
    "print(\"----------------------------\")\n"
   ]
  },
  {
   "cell_type": "markdown",
   "metadata": {},
   "source": [
    "2. **Transformación de arrays:**\n",
    "        - Reorganiza la matriz con `.reshape()` para analizar los datos de otra manera.\n",
    "        - Usa `.ravel()` o `.flatten()` para convertir la matriz en un array 1D."
   ]
  },
  {
   "cell_type": "code",
   "execution_count": 85,
   "metadata": {},
   "outputs": [
    {
     "name": "stdout",
     "output_type": "stream",
     "text": [
      "Pilotos reorganizado:\n",
      " [[9 6 6 6 2 8 3 1 9 4]\n",
      " [4 5 1 9 3 5 7 7 2 9]\n",
      " [9 8 6 5 3 4 9 3 6 8]\n",
      " [5 5 5 7 7 3 4 7 4 8]\n",
      " [4 3 9 8 5 8 1 8 9 9]]\n",
      "----------------------------\n",
      "Pilotos aplanado:\n",
      " [9 6 6 6 2 8 3 1 9 4 4 5 1 9 3 5 7 7 2 9 9 8 6 5 3 4 9 3 6 8 5 5 5 7 7 3 4\n",
      " 7 4 8 4 3 9 8 5 8 1 8 9 9]\n",
      "----------------------------\n"
     ]
    }
   ],
   "source": [
    "# Aplicamos .reshape() y cambiamos el forma del array\n",
    "pilotos_reorganizado = pilotos.reshape(5, 10)\n",
    "print(\"Pilotos reorganizado:\\n\", pilotos_reorganizado)\n",
    "print(\"----------------------------\")\n",
    "\n",
    "# Aplicamos .ravel() y convertimos en array en 1D\n",
    "pilotos_aplanado = pilotos.flatten()\n",
    "print(\"Pilotos aplanado:\\n\", pilotos_aplanado)\n",
    "print(\"----------------------------\")"
   ]
  },
  {
   "cell_type": "markdown",
   "metadata": {},
   "source": [
    "**3. Operaciones aritméticas:**\n",
    " - Calcula el promedio de posiciones por piloto y por carrera (`axis=0` y `axis=1`).\n",
    "- Aplica una penalización sumando un valor a cada posición y recalculando los valores."
   ]
  },
  {
   "cell_type": "code",
   "execution_count": 86,
   "metadata": {},
   "outputs": [
    {
     "name": "stdout",
     "output_type": "stream",
     "text": [
      "Promedio piloto 1: 5.8\n",
      "Promedio piloto 2: 5.0\n",
      "Promedio piloto 3: 4.4\n",
      "Promedio piloto 4: 6.0\n",
      "Promedio piloto 5: 6.2\n",
      "Promedio piloto 6: 6.0\n",
      "Promedio piloto 7: 5.8\n",
      "Promedio piloto 8: 5.2\n",
      "Promedio piloto 9: 5.8\n",
      "Promedio piloto 10: 7.0\n",
      "----------------------------\n",
      "Promedio carrera 1: 5.9\n",
      "Promedio carrera 2: 5.1\n",
      "Promedio carrera 3: 5.3\n",
      "Promedio carrera 4: 6.5\n",
      "Promedio carrera 5: 5.8\n",
      "----------------------------\n",
      "Promedio piloto penalizado 1: 6.8\n",
      "Promedio piloto penalizado 2: 6.0\n",
      "Promedio piloto penalizado 3: 5.4\n",
      "Promedio piloto penalizado 4: 7.0\n",
      "Promedio piloto penalizado 5: 7.2\n",
      "Promedio piloto penalizado 6: 7.0\n",
      "Promedio piloto penalizado 7: 6.8\n",
      "Promedio piloto penalizado 8: 6.2\n",
      "Promedio piloto penalizado 9: 6.8\n",
      "Promedio piloto penalizado 10: 8.0\n",
      "----------------------------\n",
      "Promedio carrera penalizada 1: 6.9\n",
      "Promedio carrera penalizada 2: 6.1\n",
      "Promedio carrera penalizada 3: 6.3\n",
      "Promedio carrera penalizada 4: 7.5\n",
      "Promedio carrera penalizada 5: 6.8\n",
      "----------------------------\n"
     ]
    }
   ],
   "source": [
    "# Calculamos el promedio de las posiciones por piloto (FILA)\n",
    "promedios_pilotos = np.mean(pilotos, axis=1)\n",
    "for i in range(len(promedios_pilotos)):\n",
    "    print(f\"Promedio piloto {i + 1}: {promedios_pilotos[i]}\")\n",
    "print(\"----------------------------\")\n",
    "\n",
    "# Calculamos el promedio de las posiciones por carrera (COLUMNAS)\n",
    "promedios_carreras = np.mean(pilotos, axis=0)\n",
    "for i in range(len(promedios_carreras)):\n",
    "    print(f\"Promedio carrera {i + 1}: {promedios_carreras[i]}\")\n",
    "print(\"----------------------------\")\n",
    "\n",
    "# Calculamos el promedio de las posiciones por piloto con penalización de +1 (FILA)\n",
    "pilotos_penalizado = pilotos + 1\n",
    "promedios_pilotos_penalizado = np.mean(pilotos_penalizado, axis=1)\n",
    "for i in range(len(promedios_pilotos_penalizado)):\n",
    "    print(f\"Promedio piloto penalizado {i + 1}: {promedios_pilotos_penalizado[i]}\")\n",
    "print(\"----------------------------\")\n",
    "\n",
    "# Calculamos el promedio de las posiciones por carrera con penalización de +1 (COLUMNAS)\n",
    "promedios_carreras_penalizadas = np.mean(pilotos_penalizado, axis=0)\n",
    "for i in range(len(promedios_carreras_penalizadas)):\n",
    "    print(f\"Promedio carrera penalizada {i + 1}: {promedios_carreras_penalizadas[i]}\")\n",
    "print(\"----------------------------\")"
   ]
  },
  {
   "cell_type": "markdown",
   "metadata": {},
   "source": [
    "4. **Producto escalar:**\n",
    "- Modela el rendimiento de dos pilotos como vectores y calcula su similitud mediante el **producto escalar**."
   ]
  },
  {
   "cell_type": "code",
   "execution_count": 87,
   "metadata": {},
   "outputs": [
    {
     "name": "stdout",
     "output_type": "stream",
     "text": [
      "Similitud entre los dos primeros pilotos:  0.870\n"
     ]
    }
   ],
   "source": [
    "# Para calcular la similitud entre dos vectores (pilotos) debemos calcular la formula: similitud = p_escalar / (L2_array1 * L2_array2). El resultado es un número del 0 al 1 significando el valor 0 que los vectores son completamente opuestos y 1 que son iguales.\n",
    "array_piloto1 = pilotos[0, :]\n",
    "array_piloto2 = pilotos[1, :]\n",
    "producto_escalar = np.dot(array_piloto1, array_piloto2)\n",
    "piloto1_L2 = np.linalg.norm(array_piloto1)\n",
    "piloto2_L2 = np.linalg.norm(array_piloto2)\n",
    "similitud = producto_escalar / (piloto1_L2 * piloto2_L2)\n",
    "print(f\"Similitud entre los dos primeros pilotos:  {similitud:.3f}\")"
   ]
  },
  {
   "cell_type": "markdown",
   "metadata": {},
   "source": [
    "5. **Producto cruzado:**\n",
    "- Representa las posiciones de dos pilotos en las primeras tres carreras como vectores 3D y calcula su **producto cruzado**, interpretando el resultado en términos de diferencias de rendimiento."
   ]
  },
  {
   "cell_type": "code",
   "execution_count": 100,
   "metadata": {},
   "outputs": [
    {
     "name": "stdout",
     "output_type": "stream",
     "text": [
      "Producto cruzado:  [-12  39 -21]\n"
     ]
    }
   ],
   "source": [
    "# Calcular el producto cruzado de los dos primeros pilotos en las primeras tres carreras\n",
    "producto_cruzado = np.cross(pilotos[0,:3], pilotos[1,:3])\n",
    "print(\"Producto cruzado: \", producto_cruzado)"
   ]
  },
  {
   "cell_type": "markdown",
   "metadata": {},
   "source": [
    "\n",
    "6. **Extra bonus:**\n",
    "- Normaliza los datos usando la **norma L2** (`np.linalg.norm()`) para comparar el rendimiento de los pilotos en diferentes circuitos."
   ]
  },
  {
   "cell_type": "code",
   "execution_count": 99,
   "metadata": {},
   "outputs": [
    {
     "name": "stdout",
     "output_type": "stream",
     "text": [
      "Pilotos normalizados:\n",
      " [[0.20443988 0.13629326 0.13629326 0.13629326 0.04543109]\n",
      " [0.18172434 0.06814663 0.02271554 0.20443988 0.09086217]\n",
      " [0.09086217 0.11357771 0.02271554 0.20443988 0.06814663]\n",
      " [0.11357771 0.1590088  0.1590088  0.04543109 0.20443988]\n",
      " [0.20443988 0.18172434 0.13629326 0.11357771 0.06814663]\n",
      " [0.09086217 0.20443988 0.06814663 0.13629326 0.18172434]\n",
      " [0.11357771 0.11357771 0.11357771 0.1590088  0.1590088 ]\n",
      " [0.06814663 0.09086217 0.1590088  0.09086217 0.18172434]\n",
      " [0.09086217 0.06814663 0.20443988 0.18172434 0.11357771]\n",
      " [0.18172434 0.02271554 0.18172434 0.20443988 0.20443988]]\n"
     ]
    }
   ],
   "source": [
    "# Calculamos la magnitud del array para calcular la normalizacion de los datos\n",
    "magnitud = np.linalg.norm(pilotos)\n",
    "pilotos_normalizados = pilotos / magnitud\n",
    "print(\"Pilotos normalizados:\\n\", pilotos_normalizados)"
   ]
  }
 ],
 "metadata": {
  "kernelspec": {
   "display_name": ".venv",
   "language": "python",
   "name": "python3"
  },
  "language_info": {
   "codemirror_mode": {
    "name": "ipython",
    "version": 3
   },
   "file_extension": ".py",
   "mimetype": "text/x-python",
   "name": "python",
   "nbconvert_exporter": "python",
   "pygments_lexer": "ipython3",
   "version": "3.10.0"
  }
 },
 "nbformat": 4,
 "nbformat_minor": 2
}
