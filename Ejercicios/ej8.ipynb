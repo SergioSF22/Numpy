{
 "cells": [
  {
   "cell_type": "markdown",
   "metadata": {},
   "source": [
    "- 8. Análisis del rendimiento de un atleta con producto escalar\n",
    "    \n",
    "    ### **Contexto**\n",
    "    \n",
    "    Eres un entrenador de atletismo y necesitas evaluar el desempeño de un atleta en diferentes pruebas de velocidad y resistencia. Para hacerlo, utilizas dos vectores:\n",
    "    \n",
    "    - **Vector de rendimiento del atleta:** Contiene los tiempos que ha tardado en recorrer diferentes distancias (100m, 200m, 400m, 800m, 1500m).\n",
    "    - **Vector de importancia de cada prueba:** Define qué tan importante es cada distancia en la evaluación final (por ejemplo, si priorizas pruebas de velocidad o de resistencia).\n",
    "    \n",
    "    El **producto escalar** te permitirá calcular un **índice de rendimiento** que refleja la eficiencia del atleta considerando la importancia de cada prueba.\n",
    "    \n",
    "    ### **Objetivos del ejercicio**\n",
    "    \n",
    "    1. Representar el rendimiento de un atleta y la importancia de cada prueba como vectores.\n",
    "    2. Calcular el producto escalar entre ambos vectores.\n",
    "    3. Interpretar el resultado: un menor valor indica mejor rendimiento, ya que los tiempos son menores en pruebas más importantes.\n",
    "    \n",
    "    ### **Datos de entrada**\n",
    "    \n",
    "    Supongamos que tenemos los siguientes datos:\n",
    "    \n",
    "    - **Tiempos del atleta (en segundos):** `[11, 22, 50, 110, 250]`\n",
    "    - **Importancia de las pruebas:** `[0.4, 0.3, 0.2, 0.1, 0.05]` *(priorizamos más las pruebas cortas de velocidad que las largas de resistencia).*\n",
    "    \n",
    "    ### **Tareas**\n",
    "    \n",
    "    1. Representa los datos como vectores en NumPy.\n",
    "    2. Calcula el producto escalar entre los vectores.\n",
    "    3. Explica qué significa el resultado obtenido en términos del rendimiento del atleta."
   ]
  },
  {
   "cell_type": "code",
   "execution_count": 6,
   "metadata": {},
   "outputs": [
    {
     "name": "stdout",
     "output_type": "stream",
     "text": [
      "Tiempos del atleta en segundos (100m, 200m, 400m, 800m, 1500m):  [  5  22  50 110 250]\n",
      "Peso de cada prueba:  [0.4  0.3  0.2  0.1  0.05]\n",
      "Rendimiento del atleta: 42.1\n"
     ]
    }
   ],
   "source": [
    "import numpy as np\n",
    "\n",
    "# Definimos los datos del atleta\n",
    "tiempos = np.array([11, 22, 50, 110, 250])\n",
    "pesos = np.array([0.4, 0.3, 0.2, 0.1, 0.05])\n",
    "print(\"Tiempos del atleta en segundos (100m, 200m, 400m, 800m, 1500m): \", tiempos)\n",
    "print(\"Peso de cada prueba: \", pesos)\n",
    "\n",
    "# Calculamos el producto escalar de ambos vectores\n",
    "escalar = np.dot(tiempos, pesos)\n",
    "print(\"Rendimiento del atleta:\", escalar)"
   ]
  },
  {
   "cell_type": "markdown",
   "metadata": {},
   "source": [
    "    \n",
    " ### Preguntas\n",
    "    \n",
    "- ¿Cómo afectaría al resultado si el atleta mejora su tiempo en la prueba de 100m? <br>\n",
    "Aumentaria el rendimiento del atleta al bajar la nota final, ya que a menor nota mejor rendimiento porque se le da mas peso a las pruebas de velocidad (las que tienen tiempos menores).\n",
    "- ¿Qué pasaría si le damos más importancia a las pruebas de resistencia? <br>\n",
    "Al darle mas peso a las pruebas de resistencia (las que tienen tiempos mayores) cambiaría la interpretación del rendimiento del atleta, siendo este mejor cuanto mas alta sea la nota y no al reves como en el caso actual. <br>\n",
    " - ¿Cómo se podría utilizar esta métrica para comparar a diferentes atletas? <br>\n",
    " Mediante los rendimientos de los atletas podriamos determinar cual es mejor, teniendo en cuenta los pesos aplicados a las pruebas los cuales afectan directamente a la interpretación del mismo."
   ]
  }
 ],
 "metadata": {
  "kernelspec": {
   "display_name": ".venv",
   "language": "python",
   "name": "python3"
  },
  "language_info": {
   "codemirror_mode": {
    "name": "ipython",
    "version": 3
   },
   "file_extension": ".py",
   "mimetype": "text/x-python",
   "name": "python",
   "nbconvert_exporter": "python",
   "pygments_lexer": "ipython3",
   "version": "3.10.0"
  }
 },
 "nbformat": 4,
 "nbformat_minor": 2
}
