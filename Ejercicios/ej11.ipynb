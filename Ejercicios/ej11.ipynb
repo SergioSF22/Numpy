{
 "cells": [
  {
   "cell_type": "markdown",
   "metadata": {},
   "source": [
    "# 11. Ejercicio de investigación de Numpy\n",
    "- ¿Qué es NumPy y para qué se utiliza en programación científica?<br>\n",
    "    - NumPy (Numerical Python) es una biblioteca de Python esencial para realizar cálculos numéricos, facilita el trabajo con datos numéricos y\n",
    "simplifica la realización de cálculos matemáticos complejos. Sus aplicaciones incluyen: \n",
    "        - Álgebra lineal\n",
    "        - Análisis estadístico\n",
    "        - Generación de números aleatorios\n",
    "        - Operaciones con matrices\n",
    "        - Interfaz de bajo nivel para operaciones de alto rendimiento y compatibilidad con bibliotecas de C/C++\n",
    "<br><br>\n",
    "- Historia de Numpy\n",
    "    - NumPy fue creado en 2005 por Travis Oliphant, un científico e ingeniero de software que buscaba\n",
    "una solución más eficiente y flexible para realizar cálculos numéricos en Python.\n",
    "<br><br>\n",
    "- ¿Cuál es la diferencia entre una lista de Python y un array de NumPy?\n",
    "    - Ambos sirven para almacenar colecciones de elemntos, pero tienen unas diferencias muy marcadas:\n",
    "        - Homogeneidad de tipos de datos: Los elementos de un array en Numpy deben ser todos del mismo tipo, mientras que las colecciones de python pueden contener variaciones entre estos.\n",
    "        - Rendimiento: Los arrays de Numpy estan diseñados para trabajar en memoria y optimizar operaciones numéricas por lo que tienen mejor rendimiento, al contrario que las colecciones de python que son mas generales y no poseen optimizacion.\n",
    "        - Operaciones matemáticas y de algébra lineal: NumPy proporciona multitud de funciones matemáticas, álgebra lineal y manipulación de arrays las cuales no estan disponibles en python.\n",
    "        - Tamaño: El tamaño de los arrays de Numpy es fijo en el momento de su creación, por otro lado los de python son dinámicos.\n",
    "        - Memoria: Los arrays de Numpy al tener un tamaño fijo, su estructura es mas compacta por lo que ocupa menos espacio en memoria siendo mas eficientes en la misma."
   ]
  },
  {
   "cell_type": "markdown",
   "metadata": {},
   "source": [
    "- ¿Cómo se crea un array en NumPy? <br>\n",
    "Para crear arrays en NumPy primero deberemos instalar la librería en nuestro entorno Python, importarla al archivo donde vayamos a utilizarla y finalmente mediante la función numpy.array() lo podremos crear pasando tantas listas anidadas como dimensiones queramos. <br>\n",
    "Explicar y dar ejemplos de:\n",
    "    - Un array unidimensional.\n",
    "    - Un array bidimensional.\n",
    "    - Un array de valores inicializados con ceros, unos y valores aleatorios."
   ]
  },
  {
   "cell_type": "code",
   "execution_count": 2,
   "metadata": {},
   "outputs": [
    {
     "name": "stdout",
     "output_type": "stream",
     "text": [
      "Array 1D:  [1 2 3 4 5]\n",
      "Array 2D: \n",
      " [[ 1  2  3  4  5]\n",
      " [ 6  7  8  9 10]]\n",
      "Array zeros:\n",
      "  [[0. 0. 0.]\n",
      " [0. 0. 0.]]\n",
      "Array unos:\n",
      "  [[1. 1. 1.]\n",
      " [1. 1. 1.]\n",
      " [1. 1. 1.]]\n",
      "Array aleatorio:\n",
      " [[ 9  4  8]\n",
      " [ 9  5 10]]\n"
     ]
    }
   ],
   "source": [
    "# Importamos la librería NumPy\n",
    "import numpy as np\n",
    "\n",
    "# Creamos un array unidimensional de enteros pasandole unicamente una lista de valores\n",
    "array_1d = np.array([1, 2, 3, 4, 5])\n",
    "print(\"Array 1D: \", array_1d)\n",
    "\n",
    "# Creamos un array bidimensional de 2 filas y 5 columnas\n",
    "array_2d = np.array([[1, 2, 3, 4, 5], [6, 7, 8, 9, 10]])\n",
    "print(\"Array 2D: \\n\", array_2d)\n",
    "\n",
    "# Creamos un array de valores incializados a ceros mediante la función .zeros() el cual como parámetro acepta el tamaño del array a crear. En este caso la pasamos una tupla para que nos cree un array de 2x3\n",
    "array_zeros = np.zeros((2, 3))\n",
    "print(\"Array zeros:\\n \", array_zeros)\n",
    "\n",
    "# Para crear un array de valores a 1 se utiliza un método parecido al de ceros pero con la función .ones(), pasandole una tupla creamos un array de 3x3\n",
    "array_unos = np.ones((3,3))\n",
    "print(\"Array unos:\\n \", array_unos)\n",
    "\n",
    "# Creamos un array de valores aleatorios mediante la función arange() la cual pasandole como parámetros el límite superior e inferior de los números a introducir lo creará.\n",
    "# Tambiémn mediante el parámetro 'size' podemos definir el tamaño para dicho array.\n",
    "array_aleatorios = np.random.randint(0, 11, size=(2,3))\n",
    "print(\"Array aleatorio:\\n\", array_aleatorios)\n",
    "\n"
   ]
  },
  {
   "cell_type": "markdown",
   "metadata": {},
   "source": [
    "- ¿Cómo acceder a los elementos de un array y cómo modificar sus valores?\n",
    "Para acceder a los elementos de un array contamos con dos técnicas parecidas pero que sirven para obtener resultados diferentes. \n",
    "    -   Por un lado está la 'indexación' la cual nos permite acceder a un solo elemento del array en una posición específica, su sintaxis varía en función de las dimensiones del array. Ejemplo, para acceder al elemento de la fila 2 columna 4 en una matriz de 5x5 la sintaxis sería la siguiente: nombre_array[1,3] (Hay que tener en cuenta que la indexación de Numpy empieza por 0).\n",
    "    -   Por otro lado tenemos el Slicing el cual nos sirve para obtener rangos de valores y no solo un rango solo. Para cada dimensión su sintaxis sería 'inicio:fin:paso'. Imaginemos que queremos obtener unicamente la columna 3 de todas nuestras filas en una matriz de 5x5, se haría de la siguiente manera: nombre_array[:,2] (El caracter ':' significa que obtenemos todo el rango, en nuestro caso las filas)\n",
    "    -   Finalmente para modificar los valores de un array habría primeramente que obtener la posición a modificar mediante indexación y seguidamente añadir una igualación con el valor que queramos intercambiar. "
   ]
  },
  {
   "cell_type": "code",
   "execution_count": 12,
   "metadata": {},
   "outputs": [
    {
     "name": "stdout",
     "output_type": "stream",
     "text": [
      "Valor de la fila 3 columna 1:  7\n",
      "Segunda columna de la matriz:\n",
      " [2 5 8]\n",
      "Valor de la fila 3 columna 1 modificado:  12\n"
     ]
    }
   ],
   "source": [
    "# Declaramos nuestra matriz de ejemplo de 3x3\n",
    "matriz = np.array([[1, 2, 3], \n",
    "                   [4, 5, 6], \n",
    "                   [7, 8, 9]])\n",
    "\n",
    "# Mediante indexación obtenemos el valor ubicado en la tercera fila primera columna.\n",
    "valor = matriz[2,0]\n",
    "print(\"Valor de la fila 3 columna 1: \", valor)\n",
    "\n",
    "# Mediante Slicing obtenemos la columna 2 de todas las filas\n",
    "columna = matriz[:,1]\n",
    "print(\"Segunda columna de la matriz:\\n\", columna)\n",
    "\n",
    "# Vamos a modificar el valor de la fila 3 columna 1 obtenido anteriormente (Era 7)\n",
    "matriz[2,0] = 12 # Ahora pasa a ser igual a 12\n",
    "print(\"Valor de la fila 3 columna 1 modificado: \", matriz[2,0])\n"
   ]
  },
  {
   "cell_type": "markdown",
   "metadata": {},
   "source": [
    "- ¿Qué son los **ejes (axis)** en un array multidimensional? Explica con ejemplos prácticos.<br>\n",
    "Los ejes 'axis' en NumPy hacen refenrencia a las filas y a las columnas de un array bidimensional (matriz). Este se pasa como parámetro a las funciones que realizan operaciones sobre los arrays indicando así donde queremos que haga efecto esta operación, puede obtener dos valores diferentes:\n",
    "    - `axis=0`  → Operación colapsa filas, es decir, actúa sobre las columnas.\n",
    "    - `axis=1`  → Operación colapsa columnas, es decir, actúa sobre las filas. (Este es el valor por defecto del parámetro en la mayoría de las funciones)."
   ]
  },
  {
   "cell_type": "code",
   "execution_count": 16,
   "metadata": {},
   "outputs": [
    {
     "name": "stdout",
     "output_type": "stream",
     "text": [
      "Suma de filas aplicando 'axis = 1':  [ 6 15 24]\n",
      "Suma de columnas aplicando 'axis = 0':  [12 15 18]\n"
     ]
    }
   ],
   "source": [
    "# Definimos nuestro array bidimensional de ejemplo de 3x3\n",
    "array_2d = np.array([[1, 2, 3], \n",
    "                     [4, 5, 6], \n",
    "                     [7, 8, 9]])\n",
    "\n",
    "# Realizamos la operación sum sobre el array aplicando axis = 1 y axis = 0\n",
    "suma_filas = array_2d.sum(axis = 1)\n",
    "suma_columnas = array_2d.sum(axis = 0)\n",
    "print(\"Suma de filas aplicando 'axis = 1': \", suma_filas)\n",
    "print(\"Suma de columnas aplicando 'axis = 0': \", suma_columnas)"
   ]
  },
  {
   "cell_type": "markdown",
   "metadata": {},
   "source": [
    "- Explica la diferencia entre **np.dot()** (producto escalar) y **np.cross()** (producto cruzado).\n",
    "    -   El producto escalar (np.dot) es una operación que multiplica los elementos correspondientes de dos vectores de cualquier tamaño y luego suma los resultados. El resultado es un numero entero (escalar) el cual es utilizado en álgebra lineal, procesamiento de señales y evaluación de la similitud entre vectores.\n",
    "    -   El producto cruzado (np.cross) entre dos vectores en 3 dimensiones produce un tercer vector el cual es perpendicular a los dos primeros, la magnitud del vector resultante es igual al área del paralelogramo formado por los otros dos primeros. Unicamente puede aplicarse a vectores definimos en 3D, para calcular los 3 valores del vector resultante se multiplica en cruz las columnas ajenas a la que se quiere hallar y luego se restan; realiando esta operación 3 veces en las diferenetes columnas. Esta operación se utiliza física, ingeniería y gráficos por computadora."
   ]
  },
  {
   "cell_type": "markdown",
   "metadata": {},
   "source": [
    "- ¿Cómo se pueden transformar las dimensiones de un array? Explica con ejemplos las funciones `reshape()` y `flatten()`.\n",
    "NumPy cuenta con diversas funciones las cuales nor permiten redimensionar array ya creados:\n",
    "    -   `reshape()`: Funciona pasando como parametro las dimensiones separadas por comas del array al que queremos redimensionar el original. Solo puede pasarse una combinación de dimensiones válida para el número de componentes del array, es decir, si tenemos una array 1D de 12 elementos y queremos convertirlo en un array 2D las únicas combinaciones posibles serían 6x2, 2x6, 4x3, 3x4.\n",
    "    -   `flatten()`: Devuelve una copia del array al que se le aplica un redimensionado a 1D ('aplanado')."
   ]
  },
  {
   "cell_type": "code",
   "execution_count": 19,
   "metadata": {},
   "outputs": [
    {
     "name": "stdout",
     "output_type": "stream",
     "text": [
      "Vector redimensionado a matriz:\n",
      " [[ 1  2  3  4  5]\n",
      " [ 6  7  8  9 10]]\n",
      "Matriz aplanada:  [ 1  2  3  4  5  6  7  8  9 10]\n"
     ]
    }
   ],
   "source": [
    "# Declaramos un vector 1D de 10 elementos\n",
    "vector = np.array([1, 2, 3, 4, 5, 6, 7, 8, 9, 10])\n",
    "\n",
    "# Mediante rashape() lo transformamos en una matriz de 2x5\n",
    "matriz = vector.reshape(2,5)\n",
    "print(\"Vector redimensionado a matriz:\\n\", matriz)\n",
    "\n",
    "# Aplanamos la matriz para volver al vector original mediante flatten()\n",
    "aplanado = matriz.flatten()\n",
    "print(\"Matriz aplanada: \", aplanado)"
   ]
  },
  {
   "cell_type": "markdown",
   "metadata": {},
   "source": [
    "- ¿Qué es Matplotlib y en qué situaciones se usa en programación? <br>\n",
    "Se trata de una biblioteca de Python open source que se emplea para la visualización de datos. Tiene a su disposición la creación de infinidad de gráficos tanto en 2D como en 3D diferentes como  de barras, mapas de calor, roscos...\n",
    "En programación se utiliza sobretodo en el campo del Data Science y el Machine Learning, donde resulta indispensable para tener una buena visualización de los datos combinado con otras librerías como Numpy o Pandas."
   ]
  }
 ],
 "metadata": {
  "kernelspec": {
   "display_name": ".venv",
   "language": "python",
   "name": "python3"
  },
  "language_info": {
   "codemirror_mode": {
    "name": "ipython",
    "version": 3
   },
   "file_extension": ".py",
   "mimetype": "text/x-python",
   "name": "python",
   "nbconvert_exporter": "python",
   "pygments_lexer": "ipython3",
   "version": "3.10.0"
  }
 },
 "nbformat": 4,
 "nbformat_minor": 2
}
