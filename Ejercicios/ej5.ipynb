{
 "cells": [
  {
   "cell_type": "markdown",
   "metadata": {},
   "source": [
    "- 5. Distancia euclidiana con fórmula optimizada\n",
    "    \n",
    "    Calcular la distancia euclidiana entre dos puntos en un espacio de 5 dimensiones.\n",
    "    \n",
    "    ### Tareas:\n",
    "    \n",
    "    - Crea dos puntos en un espacio de 5 dimensiones como arrays de NumPy. Los puntos serán:\n",
    "        - **Punto 1**: (2,3,5,7,11)\n",
    "            \n",
    "            (2,3,5,7,11)\n",
    "            \n",
    "        - **Punto 2**: (1,4,6,8,10)\n",
    "            \n",
    "            (1,4,6,8,10)\n",
    "            \n",
    "    - Utiliza la función `np.linalg.norm()` para calcular la distancia entre estos dos puntos en 5 dimensiones.\n",
    "    - Imprime el resultado de la distancia."
   ]
  },
  {
   "cell_type": "code",
   "execution_count": 6,
   "metadata": {},
   "outputs": [
    {
     "name": "stdout",
     "output_type": "stream",
     "text": [
      "Distancia euclidiana: 2.24\n"
     ]
    }
   ],
   "source": [
    "import numpy as np\n",
    "\n",
    "# Creación de los dos puntos\n",
    "p1 = np.array([2, 3, 5, 7, 11])\n",
    "p2 = np.array([1, 4, 6, 8, 10])\n",
    "\n",
    "# Calculo e impresión de la distancia euclidiana entre ellos\n",
    "print(f\"Distancia euclidiana: {np.linalg.norm(p1 - p2):.2f}\")"
   ]
  }
 ],
 "metadata": {
  "kernelspec": {
   "display_name": ".venv",
   "language": "python",
   "name": "python3"
  },
  "language_info": {
   "codemirror_mode": {
    "name": "ipython",
    "version": 3
   },
   "file_extension": ".py",
   "mimetype": "text/x-python",
   "name": "python",
   "nbconvert_exporter": "python",
   "pygments_lexer": "ipython3",
   "version": "3.10.0"
  }
 },
 "nbformat": 4,
 "nbformat_minor": 2
}
