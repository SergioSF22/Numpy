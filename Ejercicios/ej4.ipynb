{
 "cells": [
  {
   "cell_type": "markdown",
   "metadata": {},
   "source": [
    "- 4. Explorando una imagen en formato de Array 3D\n",
    "    \n",
    "    En este ejercicio, simularemos una imagen representada como un **array 3D** en NumPy. En procesamiento de imágenes, un array 3D suele representar una imagen con dimensiones `(altura, anchura, canales)`, donde los **canales** pueden ser **rojo (R), verde (G) y azul (B)** en imágenes a color.\n",
    "    \n",
    "    ### Tareas:\n",
    "    \n",
    "    1. **Creación del array 3D**\n",
    "        - Genera un array 3D de tamaño **4x4x3** con valores aleatorios entre **0 y 255** para simular una imagen en formato RGB.\n",
    "        - Usa `np.random.randint()` para generar valores enteros.\n",
    "    2. **Indexación en el array 3D**\n",
    "        - Extrae y muestra:\n",
    "            - El primer píxel (posición `[0,0]`) con sus valores de color **(R, G, B)**.\n",
    "            - El último píxel de la imagen (posición `[-1,-1]`).\n",
    "            - El valor del canal rojo del píxel en la segunda fila y tercera columna.\n",
    "    3. **Slicing en el array 3D**\n",
    "        - Extrae y muestra:\n",
    "            - Toda la primera fila de la imagen (es decir, todos los píxeles de la primera fila con sus valores RGB).\n",
    "            - Solo los valores del canal azul para todos los píxeles de la imagen.\n",
    "            - Un recorte central de la imagen, seleccionando las filas y columnas intermedias (por ejemplo, de la posición `[1:3, 1:3, :]`)."
   ]
  },
  {
   "cell_type": "code",
   "execution_count": 25,
   "metadata": {},
   "outputs": [
    {
     "name": "stdout",
     "output_type": "stream",
     "text": [
      "[[[104  44 209]\n",
      "  [231  78 110]\n",
      "  [237 223 201]\n",
      "  [118  17 127]]\n",
      "\n",
      " [[248   8  39]\n",
      "  [ 71 176 150]\n",
      "  [ 35 151   1]\n",
      "  [138 120  31]]\n",
      "\n",
      " [[ 85 147 181]\n",
      "  [251   7 225]\n",
      "  [ 77 160 181]\n",
      "  [ 87 142 182]]\n",
      "\n",
      " [[159  40  59]\n",
      "  [ 84 238  37]\n",
      "  [ 74 109 177]\n",
      "  [109  96   2]]]\n",
      "El primer píxel (posición `[0,0]`) con sus valores de color (R, G, B):  [104  44 209]\n",
      "El último píxel de la imagen (posición `[-1,-1]`):  [109  96   2]\n",
      "El valor del canal rojo del píxel en la segunda fila y tercera columna:  [110 150 225  37]\n",
      "Toda la primera fila de la imagen (es decir, todos los píxeles de la primera fila con sus valores RGB):\n",
      "  [[104  44 209]\n",
      " [248   8  39]\n",
      " [ 85 147 181]\n",
      " [159  40  59]]\n",
      "Solo los valores del canal azul para todos los píxeles de la imagen:\n",
      "  [[209 110 201 127]\n",
      " [ 39 150   1  31]\n",
      " [181 225 181 182]\n",
      " [ 59  37 177   2]]\n",
      "Un recorte central de la imagen, seleccionando las filas y columnas intermedias (por ejemplo, de la posición `[1:3, 1:3, :]`):\n",
      "  [[[231  78 110]\n",
      "  [237 223 201]]\n",
      "\n",
      " [[ 71 176 150]\n",
      "  [ 35 151   1]]\n",
      "\n",
      " [[251   7 225]\n",
      "  [ 77 160 181]]\n",
      "\n",
      " [[ 84 238  37]\n",
      "  [ 74 109 177]]]\n"
     ]
    }
   ],
   "source": [
    "import numpy as np\n",
    "\n",
    "# **Creación del array 3D**\n",
    "array_3d = np.random.randint(0, 256, (4, 4, 3))\n",
    "print(array_3d)\n",
    "\n",
    "# **Indexación en el array 3D**\n",
    "print(\n",
    "    \"El primer píxel (posición `[0,0]`) con sus valores de color (R, G, B): \",\n",
    "    array_3d[0, 0, :],\n",
    ")\n",
    "print(\"El último píxel de la imagen (posición `[-1,-1]`): \", array_3d[-1, -1, :])\n",
    "print(\n",
    "    \"El valor del canal rojo del píxel en la segunda fila y tercera columna: \",\n",
    "    array_3d[:, 1, 2],\n",
    ")\n",
    "\n",
    "# **Slicing en el array 3D**\n",
    "print(\n",
    "    \"Toda la primera fila de la imagen (es decir, todos los píxeles de la primera fila con sus valores RGB):\\n \",\n",
    "    array_3d[:, 0, :],\n",
    ")\n",
    "print(\n",
    "    \"Solo los valores del canal azul para todos los píxeles de la imagen:\\n \",\n",
    "    array_3d[:, :, 2],\n",
    ")\n",
    "print(\n",
    "    \"Un recorte central de la imagen, seleccionando las filas y columnas intermedias (por ejemplo, de la posición `[1:3, 1:3, :]`):\\n \",\n",
    "    array_3d[:, 1:3, :],\n",
    ")"
   ]
  }
 ],
 "metadata": {
  "kernelspec": {
   "display_name": ".venv",
   "language": "python",
   "name": "python3"
  },
  "language_info": {
   "codemirror_mode": {
    "name": "ipython",
    "version": 3
   },
   "file_extension": ".py",
   "mimetype": "text/x-python",
   "name": "python",
   "nbconvert_exporter": "python",
   "pygments_lexer": "ipython3",
   "version": "3.10.0"
  }
 },
 "nbformat": 4,
 "nbformat_minor": 2
}
