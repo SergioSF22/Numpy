{
 "cells": [
  {
   "cell_type": "markdown",
   "metadata": {},
   "source": [
    "- 9. Normalización de datos con la norma L2 en rendimiento deportivo\n",
    "    \n",
    "    ### **Contexto**\n",
    "    \n",
    "    Eres un analista de rendimiento deportivo y tienes un equipo de **fútbol** que ha jugado **una temporada completa**. Para evaluar a cada jugador, has recopilado sus estadísticas en diferentes categorías:\n",
    "    \n",
    "    - **Goles marcados**\n",
    "    - **Asistencias**\n",
    "    - **Pases completados**\n",
    "    - **Regates exitosos**\n",
    "    - **Tiros a puerta**\n",
    "    \n",
    "    Sin embargo, los valores en cada categoría tienen escalas diferentes, por lo que es difícil comparar directamente el desempeño de los jugadores. Para resolver este problema, aplicarás la **normalización con la norma L2**, lo que permitirá convertir todas las estadísticas a una escala comparable.\n",
    "    \n",
    "    ### **Objetivo del ejercicio**\n",
    "    \n",
    "    1. Representar el rendimiento de los jugadores como una matriz en NumPy.\n",
    "    2. Aplicar la **normalización L2** a cada jugador para escalar sus valores entre 0 y 1 mientras se mantiene la proporción relativa.\n",
    "    3. Comparar los jugadores después de la normalización.\n",
    "    \n",
    "    ### **Datos de entrada**\n",
    "    \n",
    "    Supongamos que tenemos los datos de 5 jugadores:\n",
    "    \n",
    "    | Jugador | Goles | Asistencias | Pases | Regates | Tiros a puerta |\n",
    "    | --- | --- | --- | --- | --- | --- |\n",
    "    | Jugador 1 | 10 | 7 | 300 | 25 | 40 |\n",
    "    | Jugador 2 | 15 | 10 | 250 | 30 | 50 |\n",
    "    | Jugador 3 | 5 | 12 | 280 | 20 | 35 |\n",
    "    | Jugador 4 | 8 | 6 | 310 | 15 | 38 |\n",
    "    | Jugador 5 | 12 | 9 | 270 | 28 | 45 |\n",
    "    \n",
    "    Cada jugador es un **vector** con 5 componentes. Aplicaremos la **norma L2** para normalizar sus estadísticas.\n",
    "    \n",
    "    ### **Tareas**\n",
    "    \n",
    "    1. Representar los datos como una matriz en NumPy.\n",
    "    2. Aplicar la normalización L2 a cada jugador (por filas, usando `axis=1`).\n",
    "    3. Mostrar los valores normalizados y analizar cómo se comparan los jugadores tras la normalización.\n",
    "    \n",
    "    ### Preguntas\n",
    "    \n",
    "    - ¿Cómo cambian los valores después de la normalización?<br>\n",
    "    Establecen un rango entre 0 y 1 el cual se adapta una escala que se define en función de los valores en el vector.\n",
    "    - ¿Por qué la normalización L2 es útil cuando los datos tienen escalas diferentes? <br>\n",
    "    Es útil para entrenar nuestros modelos de IA y evitar que nuestro modelo de mas peso a características que tengan modelos mas altos.\n",
    "    - ¿Qué pasaría si normalizamos por **columnas (axis=0)** en lugar de por filas? <br>\n",
    "    Aplicariamos una normalización por característica y no por jugadores, lo cual sería útil cuando queramos medir rendimentos específicos de cierto campo y no rendimientos globales."
   ]
  },
  {
   "cell_type": "code",
   "execution_count": 9,
   "metadata": {},
   "outputs": [
    {
     "name": "stdout",
     "output_type": "stream",
     "text": [
      "Jugadores normalizados:\n",
      "  [[0.01556817 0.01089772 0.46704502 0.03892042 0.06227267]\n",
      " [0.02335225 0.01556817 0.38920419 0.0467045  0.07784084]\n",
      " [0.00778408 0.0186818  0.43590869 0.03113633 0.05448859]\n",
      " [0.01245453 0.0093409  0.48261319 0.02335225 0.05915904]\n",
      " [0.0186818  0.01401135 0.42034052 0.04359087 0.07005675]]\n"
     ]
    }
   ],
   "source": [
    "import numpy as np\n",
    "\n",
    "# Datos de entrada\n",
    "jugadores = np.array(\n",
    "    [\n",
    "        [10, 7, 300, 25, 40],\n",
    "        [15, 10, 250, 30, 50],\n",
    "        [5, 12, 280, 20, 35],\n",
    "        [8, 6, 310, 15, 38],\n",
    "        [12, 9, 270, 28, 45]\n",
    "    ]\n",
    ")\n",
    "# Normalizar el vector jugadores \n",
    "jugadores_normalizado = jugadores / np.linalg.norm(jugadores)\n",
    "print(\"Jugadores normalizados:\\n \", jugadores_normalizado)"
   ]
  }
 ],
 "metadata": {
  "kernelspec": {
   "display_name": ".venv",
   "language": "python",
   "name": "python3"
  },
  "language_info": {
   "codemirror_mode": {
    "name": "ipython",
    "version": 3
   },
   "file_extension": ".py",
   "mimetype": "text/x-python",
   "name": "python",
   "nbconvert_exporter": "python",
   "pygments_lexer": "ipython3",
   "version": "3.10.0"
  }
 },
 "nbformat": 4,
 "nbformat_minor": 2
}
