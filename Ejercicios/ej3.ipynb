{
 "cells": [
  {
   "cell_type": "markdown",
   "metadata": {},
   "source": [
    "- 3. Indexación y selección en arrays con Numpy\n",
    "    \n",
    "    En este ejercicio, trabajarás con arrays 1D y 2D en NumPy, aplicando indexación y selección de elementos.\n",
    "    \n",
    "    ### Tareas:\n",
    "    \n",
    "    1. **Creación de arrays**\n",
    "        - Crea un array **1D** con los números del **1 al 10** utilizando `np.arange()`.\n",
    "        - Crea un array **2D** de tamaño **3x3** con valores del **1 al 9** utilizando `np.arange()` y `.reshape()`.\n",
    "    2. **Indexación en arrays**\n",
    "        - Extrae y muestra:\n",
    "            - El primer y último elemento del array 1D.\n",
    "            - El primer elemento de la primera fila del array 2D.\n",
    "            - El último elemento de la última fila del array 2D.\n",
    "            - El elemento ubicado en la segunda fila y tercera columna del array 2D.\n",
    "    3. **Selección de filas y columnas**\n",
    "        - Extrae y muestra:\n",
    "            - La primera fila completa del array 2D.\n",
    "            - La segunda columna completa del array 2D."
   ]
  },
  {
   "cell_type": "code",
   "execution_count": 15,
   "metadata": {},
   "outputs": [
    {
     "name": "stdout",
     "output_type": "stream",
     "text": [
      "Array unidimensional del 1 al 10:  [ 1  2  3  4  5  6  7  8  9 10]\n",
      "Array bidimensional de 3x3:\n",
      "  [[1 2 3]\n",
      " [4 5 6]\n",
      " [7 8 9]]\n",
      "El primer y último elemento del array 1D: 1 10\n",
      "El primer elemento de la primera fila del array 2D: 1\n",
      "El último elemento de la última fila del array 2D: 9\n",
      "El elemento ubicado en la segunda fila y tercera columna del array 2D: 6\n",
      "La primera fila completa del array 2D: [1 2 3]\n",
      "La segunda columna completa del array 2D: [2 5 8]\n"
     ]
    }
   ],
   "source": [
    "import numpy as np\n",
    "\n",
    "# Crea un array **1D** con los números del **1 al 10** utilizando `np.arange()`.\n",
    "array_1d = np.arange(1, 11)\n",
    "print(\"Array unidimensional del 1 al 10: \", array_1d)\n",
    "\n",
    "# Crea un array **2D** de tamaño **3x3** con valores del **1 al 9** utilizando `np.arange()` y `.reshape()`.\n",
    "array_2d = np.arange(1, 10)\n",
    "array_2d = array_2d.reshape(3, 3)\n",
    "print(\"Array bidimensional de 3x3:\\n \", array_2d)\n",
    "\n",
    "# **Indexación en arrays** Extrae y muestra:\n",
    "print(f\"El primer y último elemento del array 1D: {array_1d[0]} {array_1d[-1]}\")\n",
    "print(f\"El primer elemento de la primera fila del array 2D: {array_2d[0, 0]}\")\n",
    "print(f\"El último elemento de la última fila del array 2D: {array_2d[-1, -1]}\")\n",
    "print(\n",
    "    f\"El elemento ubicado en la segunda fila y tercera columna del array 2D: {array_2d[1, 2]}\"\n",
    ")\n",
    "\n",
    "# **Selección de filas y columnas** Extrae y muestra:\n",
    "print(f\"La primera fila completa del array 2D: {array_2d[0, :]}\")\n",
    "print(f\"La segunda columna completa del array 2D: {array_2d[:, 1]}\")"
   ]
  }
 ],
 "metadata": {
  "kernelspec": {
   "display_name": ".venv",
   "language": "python",
   "name": "python3"
  },
  "language_info": {
   "codemirror_mode": {
    "name": "ipython",
    "version": 3
   },
   "file_extension": ".py",
   "mimetype": "text/x-python",
   "name": "python",
   "nbconvert_exporter": "python",
   "pygments_lexer": "ipython3",
   "version": "3.10.0"
  }
 },
 "nbformat": 4,
 "nbformat_minor": 2
}
